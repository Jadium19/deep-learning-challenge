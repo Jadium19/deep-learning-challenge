{
 "cells": [
  {
   "cell_type": "markdown",
   "metadata": {},
   "source": [
    "## Preprocessing"
   ]
  },
  {
   "cell_type": "code",
   "execution_count": 1,
   "metadata": {},
   "outputs": [
    {
     "data": {
      "text/html": [
       "<div>\n",
       "<style scoped>\n",
       "    .dataframe tbody tr th:only-of-type {\n",
       "        vertical-align: middle;\n",
       "    }\n",
       "\n",
       "    .dataframe tbody tr th {\n",
       "        vertical-align: top;\n",
       "    }\n",
       "\n",
       "    .dataframe thead th {\n",
       "        text-align: right;\n",
       "    }\n",
       "</style>\n",
       "<table border=\"1\" class=\"dataframe\">\n",
       "  <thead>\n",
       "    <tr style=\"text-align: right;\">\n",
       "      <th></th>\n",
       "      <th>EIN</th>\n",
       "      <th>NAME</th>\n",
       "      <th>APPLICATION_TYPE</th>\n",
       "      <th>AFFILIATION</th>\n",
       "      <th>CLASSIFICATION</th>\n",
       "      <th>USE_CASE</th>\n",
       "      <th>ORGANIZATION</th>\n",
       "      <th>STATUS</th>\n",
       "      <th>INCOME_AMT</th>\n",
       "      <th>SPECIAL_CONSIDERATIONS</th>\n",
       "      <th>ASK_AMT</th>\n",
       "      <th>IS_SUCCESSFUL</th>\n",
       "    </tr>\n",
       "  </thead>\n",
       "  <tbody>\n",
       "    <tr>\n",
       "      <th>0</th>\n",
       "      <td>10520599</td>\n",
       "      <td>BLUE KNIGHTS MOTORCYCLE CLUB</td>\n",
       "      <td>T10</td>\n",
       "      <td>Independent</td>\n",
       "      <td>C1000</td>\n",
       "      <td>ProductDev</td>\n",
       "      <td>Association</td>\n",
       "      <td>1</td>\n",
       "      <td>0</td>\n",
       "      <td>N</td>\n",
       "      <td>5000</td>\n",
       "      <td>1</td>\n",
       "    </tr>\n",
       "    <tr>\n",
       "      <th>1</th>\n",
       "      <td>10531628</td>\n",
       "      <td>AMERICAN CHESAPEAKE CLUB CHARITABLE TR</td>\n",
       "      <td>T3</td>\n",
       "      <td>Independent</td>\n",
       "      <td>C2000</td>\n",
       "      <td>Preservation</td>\n",
       "      <td>Co-operative</td>\n",
       "      <td>1</td>\n",
       "      <td>1-9999</td>\n",
       "      <td>N</td>\n",
       "      <td>108590</td>\n",
       "      <td>1</td>\n",
       "    </tr>\n",
       "    <tr>\n",
       "      <th>2</th>\n",
       "      <td>10547893</td>\n",
       "      <td>ST CLOUD PROFESSIONAL FIREFIGHTERS</td>\n",
       "      <td>T5</td>\n",
       "      <td>CompanySponsored</td>\n",
       "      <td>C3000</td>\n",
       "      <td>ProductDev</td>\n",
       "      <td>Association</td>\n",
       "      <td>1</td>\n",
       "      <td>0</td>\n",
       "      <td>N</td>\n",
       "      <td>5000</td>\n",
       "      <td>0</td>\n",
       "    </tr>\n",
       "    <tr>\n",
       "      <th>3</th>\n",
       "      <td>10553066</td>\n",
       "      <td>SOUTHSIDE ATHLETIC ASSOCIATION</td>\n",
       "      <td>T3</td>\n",
       "      <td>CompanySponsored</td>\n",
       "      <td>C2000</td>\n",
       "      <td>Preservation</td>\n",
       "      <td>Trust</td>\n",
       "      <td>1</td>\n",
       "      <td>10000-24999</td>\n",
       "      <td>N</td>\n",
       "      <td>6692</td>\n",
       "      <td>1</td>\n",
       "    </tr>\n",
       "    <tr>\n",
       "      <th>4</th>\n",
       "      <td>10556103</td>\n",
       "      <td>GENETIC RESEARCH INSTITUTE OF THE DESERT</td>\n",
       "      <td>T3</td>\n",
       "      <td>Independent</td>\n",
       "      <td>C1000</td>\n",
       "      <td>Heathcare</td>\n",
       "      <td>Trust</td>\n",
       "      <td>1</td>\n",
       "      <td>100000-499999</td>\n",
       "      <td>N</td>\n",
       "      <td>142590</td>\n",
       "      <td>1</td>\n",
       "    </tr>\n",
       "  </tbody>\n",
       "</table>\n",
       "</div>"
      ],
      "text/plain": [
       "        EIN                                      NAME APPLICATION_TYPE  \\\n",
       "0  10520599              BLUE KNIGHTS MOTORCYCLE CLUB              T10   \n",
       "1  10531628    AMERICAN CHESAPEAKE CLUB CHARITABLE TR               T3   \n",
       "2  10547893        ST CLOUD PROFESSIONAL FIREFIGHTERS               T5   \n",
       "3  10553066            SOUTHSIDE ATHLETIC ASSOCIATION               T3   \n",
       "4  10556103  GENETIC RESEARCH INSTITUTE OF THE DESERT               T3   \n",
       "\n",
       "        AFFILIATION CLASSIFICATION      USE_CASE  ORGANIZATION  STATUS  \\\n",
       "0       Independent          C1000    ProductDev   Association       1   \n",
       "1       Independent          C2000  Preservation  Co-operative       1   \n",
       "2  CompanySponsored          C3000    ProductDev   Association       1   \n",
       "3  CompanySponsored          C2000  Preservation         Trust       1   \n",
       "4       Independent          C1000     Heathcare         Trust       1   \n",
       "\n",
       "      INCOME_AMT SPECIAL_CONSIDERATIONS  ASK_AMT  IS_SUCCESSFUL  \n",
       "0              0                      N     5000              1  \n",
       "1         1-9999                      N   108590              1  \n",
       "2              0                      N     5000              0  \n",
       "3    10000-24999                      N     6692              1  \n",
       "4  100000-499999                      N   142590              1  "
      ]
     },
     "execution_count": 1,
     "metadata": {},
     "output_type": "execute_result"
    }
   ],
   "source": [
    "# Import our dependencies\n",
    "from sklearn.model_selection import train_test_split\n",
    "from sklearn.preprocessing import StandardScaler\n",
    "import pandas as pd\n",
    "import tensorflow as tf\n",
    "\n",
    "#  Import and read the charity_data.csv.\n",
    "import pandas as pd \n",
    "application_df = pd.read_csv(\"https://static.bc-edx.com/data/dl-1-2/m21/lms/starter/charity_data.csv\")\n",
    "application_df.head()"
   ]
  },
  {
   "cell_type": "code",
   "execution_count": 2,
   "metadata": {},
   "outputs": [],
   "source": [
    "# Drop the non-beneficial ID columns, 'EIN' and 'NAME'.\n",
    "# application_df = application_df.drop(columns=[\"EIN\", \"NAME\"], axis=1)\n",
    "application_df = application_df[[\"APPLICATION_TYPE\", \"AFFILIATION\", \"ORGANIZATION\", \"ASK_AMT\", \"IS_SUCCESSFUL\"]]"
   ]
  },
  {
   "cell_type": "code",
   "execution_count": 3,
   "metadata": {},
   "outputs": [
    {
     "data": {
      "text/plain": [
       "APPLICATION_TYPE      17\n",
       "AFFILIATION            6\n",
       "ORGANIZATION           4\n",
       "ASK_AMT             8747\n",
       "IS_SUCCESSFUL          2\n",
       "dtype: int64"
      ]
     },
     "execution_count": 3,
     "metadata": {},
     "output_type": "execute_result"
    }
   ],
   "source": [
    "# Determine the number of unique values in each column.\n",
    "application_df.nunique()"
   ]
  },
  {
   "cell_type": "code",
   "execution_count": 4,
   "metadata": {},
   "outputs": [
    {
     "data": {
      "text/plain": [
       "APPLICATION_TYPE\n",
       "T3     27037\n",
       "T4      1542\n",
       "T6      1216\n",
       "T5      1173\n",
       "T19     1065\n",
       "T8       737\n",
       "T7       725\n",
       "T10      528\n",
       "T9       156\n",
       "T13       66\n",
       "T12       27\n",
       "T2        16\n",
       "T25        3\n",
       "T14        3\n",
       "T29        2\n",
       "T15        2\n",
       "T17        1\n",
       "Name: count, dtype: int64"
      ]
     },
     "execution_count": 4,
     "metadata": {},
     "output_type": "execute_result"
    }
   ],
   "source": [
    "# Look at APPLICATION_TYPE value counts for binning\n",
    "application_df[\"APPLICATION_TYPE\"].value_counts()"
   ]
  },
  {
   "cell_type": "code",
   "execution_count": 5,
   "metadata": {},
   "outputs": [
    {
     "data": {
      "text/plain": [
       "APPLICATION_TYPE\n",
       "T3       27037\n",
       "T4        1542\n",
       "T6        1216\n",
       "T5        1173\n",
       "T19       1065\n",
       "T8         737\n",
       "T7         725\n",
       "T10        528\n",
       "Other      276\n",
       "Name: count, dtype: int64"
      ]
     },
     "execution_count": 5,
     "metadata": {},
     "output_type": "execute_result"
    }
   ],
   "source": [
    "# Choose a cutoff value and create a list of application types to be replaced\n",
    "# use the variable name `application_types_to_replace`\n",
    "application_types_to_replace = list(application_df[\"APPLICATION_TYPE\"].value_counts()[application_df[\"APPLICATION_TYPE\"].value_counts() < 500].index)\n",
    "\n",
    "# Replace in dataframe\n",
    "for app in application_types_to_replace:\n",
    "    application_df['APPLICATION_TYPE'] = application_df['APPLICATION_TYPE'].replace(app,\"Other\")\n",
    "\n",
    "# Check to make sure binning was successful\n",
    "application_df['APPLICATION_TYPE'].value_counts()"
   ]
  },
  {
   "cell_type": "code",
   "execution_count": 8,
   "metadata": {},
   "outputs": [
    {
     "data": {
      "text/plain": [
       "AFFILIATION\n",
       "Independent         18480\n",
       "CompanySponsored    15705\n",
       "Family/Parent          64\n",
       "National               33\n",
       "Regional               13\n",
       "Other                   4\n",
       "Name: count, dtype: int64"
      ]
     },
     "execution_count": 8,
     "metadata": {},
     "output_type": "execute_result"
    }
   ],
   "source": [
    "# Look at APPLICATION_TYPE value counts for binning\n",
    "application_df[\"AFFILIATION\"].value_counts()"
   ]
  },
  {
   "cell_type": "code",
   "execution_count": 9,
   "metadata": {},
   "outputs": [
    {
     "data": {
      "text/plain": [
       "AFFILIATION\n",
       "Independent         18480\n",
       "CompanySponsored    15705\n",
       "Other                 114\n",
       "Name: count, dtype: int64"
      ]
     },
     "execution_count": 9,
     "metadata": {},
     "output_type": "execute_result"
    }
   ],
   "source": [
    "# Choose a cutoff value and create a list of application types to be replaced\n",
    "# use the variable name `application_types_to_replace`\n",
    "application_types_to_replace = list(application_df[\"AFFILIATION\"].value_counts()[application_df[\"AFFILIATION\"].value_counts() < 1500].index)\n",
    "\n",
    "# Replace in dataframe\n",
    "for app in application_types_to_replace:\n",
    "    application_df['AFFILIATION'] = application_df['AFFILIATION'].replace(app,\"Other\")\n",
    "\n",
    "# Check to make sure binning was successful\n",
    "application_df['AFFILIATION'].value_counts()"
   ]
  },
  {
   "cell_type": "code",
   "execution_count": 10,
   "metadata": {},
   "outputs": [
    {
     "data": {
      "text/plain": [
       "ORGANIZATION\n",
       "Trust           23515\n",
       "Association     10255\n",
       "Co-operative      486\n",
       "Corporation        43\n",
       "Name: count, dtype: int64"
      ]
     },
     "execution_count": 10,
     "metadata": {},
     "output_type": "execute_result"
    }
   ],
   "source": [
    "# Look at APPLICATION_TYPE value counts for binning\n",
    "application_df[\"ORGANIZATION\"].value_counts()"
   ]
  },
  {
   "cell_type": "code",
   "execution_count": 11,
   "metadata": {},
   "outputs": [
    {
     "data": {
      "text/plain": [
       "ORGANIZATION\n",
       "Trust          23515\n",
       "Association    10255\n",
       "Other            529\n",
       "Name: count, dtype: int64"
      ]
     },
     "execution_count": 11,
     "metadata": {},
     "output_type": "execute_result"
    }
   ],
   "source": [
    "# Choose a cutoff value and create a list of application types to be replaced\n",
    "# use the variable name `application_types_to_replace`\n",
    "application_types_to_replace = list(application_df[\"ORGANIZATION\"].value_counts()[application_df[\"ORGANIZATION\"].value_counts() < 1500].index)\n",
    "\n",
    "# Replace in dataframe\n",
    "for app in application_types_to_replace:\n",
    "    application_df['ORGANIZATION'] = application_df['ORGANIZATION'].replace(app,\"Other\")\n",
    "\n",
    "# Check to make sure binning was successful\n",
    "application_df['ORGANIZATION'].value_counts()"
   ]
  },
  {
   "cell_type": "code",
   "execution_count": 13,
   "metadata": {},
   "outputs": [
    {
     "data": {
      "text/html": [
       "<div>\n",
       "<style scoped>\n",
       "    .dataframe tbody tr th:only-of-type {\n",
       "        vertical-align: middle;\n",
       "    }\n",
       "\n",
       "    .dataframe tbody tr th {\n",
       "        vertical-align: top;\n",
       "    }\n",
       "\n",
       "    .dataframe thead th {\n",
       "        text-align: right;\n",
       "    }\n",
       "</style>\n",
       "<table border=\"1\" class=\"dataframe\">\n",
       "  <thead>\n",
       "    <tr style=\"text-align: right;\">\n",
       "      <th></th>\n",
       "      <th>APPLICATION_TYPE</th>\n",
       "      <th>AFFILIATION</th>\n",
       "      <th>ORGANIZATION</th>\n",
       "      <th>ASK_AMT</th>\n",
       "      <th>IS_SUCCESSFUL</th>\n",
       "    </tr>\n",
       "  </thead>\n",
       "  <tbody>\n",
       "    <tr>\n",
       "      <th>0</th>\n",
       "      <td>T10</td>\n",
       "      <td>Independent</td>\n",
       "      <td>Association</td>\n",
       "      <td>5000</td>\n",
       "      <td>1</td>\n",
       "    </tr>\n",
       "    <tr>\n",
       "      <th>1</th>\n",
       "      <td>T3</td>\n",
       "      <td>Independent</td>\n",
       "      <td>Other</td>\n",
       "      <td>108590</td>\n",
       "      <td>1</td>\n",
       "    </tr>\n",
       "    <tr>\n",
       "      <th>2</th>\n",
       "      <td>T5</td>\n",
       "      <td>CompanySponsored</td>\n",
       "      <td>Association</td>\n",
       "      <td>5000</td>\n",
       "      <td>0</td>\n",
       "    </tr>\n",
       "    <tr>\n",
       "      <th>3</th>\n",
       "      <td>T3</td>\n",
       "      <td>CompanySponsored</td>\n",
       "      <td>Trust</td>\n",
       "      <td>6692</td>\n",
       "      <td>1</td>\n",
       "    </tr>\n",
       "    <tr>\n",
       "      <th>4</th>\n",
       "      <td>T3</td>\n",
       "      <td>Independent</td>\n",
       "      <td>Trust</td>\n",
       "      <td>142590</td>\n",
       "      <td>1</td>\n",
       "    </tr>\n",
       "  </tbody>\n",
       "</table>\n",
       "</div>"
      ],
      "text/plain": [
       "  APPLICATION_TYPE       AFFILIATION ORGANIZATION  ASK_AMT  IS_SUCCESSFUL\n",
       "0              T10       Independent  Association     5000              1\n",
       "1               T3       Independent        Other   108590              1\n",
       "2               T5  CompanySponsored  Association     5000              0\n",
       "3               T3  CompanySponsored        Trust     6692              1\n",
       "4               T3       Independent        Trust   142590              1"
      ]
     },
     "execution_count": 13,
     "metadata": {},
     "output_type": "execute_result"
    }
   ],
   "source": [
    "application_df.head()"
   ]
  },
  {
   "cell_type": "code",
   "execution_count": 14,
   "metadata": {},
   "outputs": [
    {
     "data": {
      "text/html": [
       "<div>\n",
       "<style scoped>\n",
       "    .dataframe tbody tr th:only-of-type {\n",
       "        vertical-align: middle;\n",
       "    }\n",
       "\n",
       "    .dataframe tbody tr th {\n",
       "        vertical-align: top;\n",
       "    }\n",
       "\n",
       "    .dataframe thead th {\n",
       "        text-align: right;\n",
       "    }\n",
       "</style>\n",
       "<table border=\"1\" class=\"dataframe\">\n",
       "  <thead>\n",
       "    <tr style=\"text-align: right;\">\n",
       "      <th></th>\n",
       "      <th>ASK_AMT</th>\n",
       "      <th>IS_SUCCESSFUL</th>\n",
       "      <th>APPLICATION_TYPE_Other</th>\n",
       "      <th>APPLICATION_TYPE_T10</th>\n",
       "      <th>APPLICATION_TYPE_T19</th>\n",
       "      <th>APPLICATION_TYPE_T3</th>\n",
       "      <th>APPLICATION_TYPE_T4</th>\n",
       "      <th>APPLICATION_TYPE_T5</th>\n",
       "      <th>APPLICATION_TYPE_T6</th>\n",
       "      <th>APPLICATION_TYPE_T7</th>\n",
       "      <th>APPLICATION_TYPE_T8</th>\n",
       "      <th>AFFILIATION_CompanySponsored</th>\n",
       "      <th>AFFILIATION_Independent</th>\n",
       "      <th>AFFILIATION_Other</th>\n",
       "      <th>ORGANIZATION_Association</th>\n",
       "      <th>ORGANIZATION_Other</th>\n",
       "      <th>ORGANIZATION_Trust</th>\n",
       "    </tr>\n",
       "  </thead>\n",
       "  <tbody>\n",
       "    <tr>\n",
       "      <th>0</th>\n",
       "      <td>5000</td>\n",
       "      <td>1</td>\n",
       "      <td>0</td>\n",
       "      <td>1</td>\n",
       "      <td>0</td>\n",
       "      <td>0</td>\n",
       "      <td>0</td>\n",
       "      <td>0</td>\n",
       "      <td>0</td>\n",
       "      <td>0</td>\n",
       "      <td>0</td>\n",
       "      <td>0</td>\n",
       "      <td>1</td>\n",
       "      <td>0</td>\n",
       "      <td>1</td>\n",
       "      <td>0</td>\n",
       "      <td>0</td>\n",
       "    </tr>\n",
       "    <tr>\n",
       "      <th>1</th>\n",
       "      <td>108590</td>\n",
       "      <td>1</td>\n",
       "      <td>0</td>\n",
       "      <td>0</td>\n",
       "      <td>0</td>\n",
       "      <td>1</td>\n",
       "      <td>0</td>\n",
       "      <td>0</td>\n",
       "      <td>0</td>\n",
       "      <td>0</td>\n",
       "      <td>0</td>\n",
       "      <td>0</td>\n",
       "      <td>1</td>\n",
       "      <td>0</td>\n",
       "      <td>0</td>\n",
       "      <td>1</td>\n",
       "      <td>0</td>\n",
       "    </tr>\n",
       "    <tr>\n",
       "      <th>2</th>\n",
       "      <td>5000</td>\n",
       "      <td>0</td>\n",
       "      <td>0</td>\n",
       "      <td>0</td>\n",
       "      <td>0</td>\n",
       "      <td>0</td>\n",
       "      <td>0</td>\n",
       "      <td>1</td>\n",
       "      <td>0</td>\n",
       "      <td>0</td>\n",
       "      <td>0</td>\n",
       "      <td>1</td>\n",
       "      <td>0</td>\n",
       "      <td>0</td>\n",
       "      <td>1</td>\n",
       "      <td>0</td>\n",
       "      <td>0</td>\n",
       "    </tr>\n",
       "    <tr>\n",
       "      <th>3</th>\n",
       "      <td>6692</td>\n",
       "      <td>1</td>\n",
       "      <td>0</td>\n",
       "      <td>0</td>\n",
       "      <td>0</td>\n",
       "      <td>1</td>\n",
       "      <td>0</td>\n",
       "      <td>0</td>\n",
       "      <td>0</td>\n",
       "      <td>0</td>\n",
       "      <td>0</td>\n",
       "      <td>1</td>\n",
       "      <td>0</td>\n",
       "      <td>0</td>\n",
       "      <td>0</td>\n",
       "      <td>0</td>\n",
       "      <td>1</td>\n",
       "    </tr>\n",
       "    <tr>\n",
       "      <th>4</th>\n",
       "      <td>142590</td>\n",
       "      <td>1</td>\n",
       "      <td>0</td>\n",
       "      <td>0</td>\n",
       "      <td>0</td>\n",
       "      <td>1</td>\n",
       "      <td>0</td>\n",
       "      <td>0</td>\n",
       "      <td>0</td>\n",
       "      <td>0</td>\n",
       "      <td>0</td>\n",
       "      <td>0</td>\n",
       "      <td>1</td>\n",
       "      <td>0</td>\n",
       "      <td>0</td>\n",
       "      <td>0</td>\n",
       "      <td>1</td>\n",
       "    </tr>\n",
       "  </tbody>\n",
       "</table>\n",
       "</div>"
      ],
      "text/plain": [
       "   ASK_AMT  IS_SUCCESSFUL  APPLICATION_TYPE_Other  APPLICATION_TYPE_T10  \\\n",
       "0     5000              1                       0                     1   \n",
       "1   108590              1                       0                     0   \n",
       "2     5000              0                       0                     0   \n",
       "3     6692              1                       0                     0   \n",
       "4   142590              1                       0                     0   \n",
       "\n",
       "   APPLICATION_TYPE_T19  APPLICATION_TYPE_T3  APPLICATION_TYPE_T4  \\\n",
       "0                     0                    0                    0   \n",
       "1                     0                    1                    0   \n",
       "2                     0                    0                    0   \n",
       "3                     0                    1                    0   \n",
       "4                     0                    1                    0   \n",
       "\n",
       "   APPLICATION_TYPE_T5  APPLICATION_TYPE_T6  APPLICATION_TYPE_T7  \\\n",
       "0                    0                    0                    0   \n",
       "1                    0                    0                    0   \n",
       "2                    1                    0                    0   \n",
       "3                    0                    0                    0   \n",
       "4                    0                    0                    0   \n",
       "\n",
       "   APPLICATION_TYPE_T8  AFFILIATION_CompanySponsored  AFFILIATION_Independent  \\\n",
       "0                    0                             0                        1   \n",
       "1                    0                             0                        1   \n",
       "2                    0                             1                        0   \n",
       "3                    0                             1                        0   \n",
       "4                    0                             0                        1   \n",
       "\n",
       "   AFFILIATION_Other  ORGANIZATION_Association  ORGANIZATION_Other  \\\n",
       "0                  0                         1                   0   \n",
       "1                  0                         0                   1   \n",
       "2                  0                         1                   0   \n",
       "3                  0                         0                   0   \n",
       "4                  0                         0                   0   \n",
       "\n",
       "   ORGANIZATION_Trust  \n",
       "0                   0  \n",
       "1                   0  \n",
       "2                   0  \n",
       "3                   1  \n",
       "4                   1  "
      ]
     },
     "execution_count": 14,
     "metadata": {},
     "output_type": "execute_result"
    }
   ],
   "source": [
    "# Convert categorical data to numeric with `pd.get_dummies`\n",
    "application_df = pd.get_dummies(application_df)\n",
    "\n",
    "# Update True/False columns to 1/0\n",
    "application_df = application_df.replace({True:1, False:0})\n",
    "\n",
    "application_df.head()"
   ]
  },
  {
   "cell_type": "code",
   "execution_count": 15,
   "metadata": {},
   "outputs": [],
   "source": [
    "# Split our preprocessed data into our features and target arrays\n",
    "y = application_df[\"IS_SUCCESSFUL\"].values\n",
    "X = application_df.drop(columns=[\"IS_SUCCESSFUL\"], axis=1).values\n",
    "\n",
    "# Split the preprocessed data into a training and testing dataset\n",
    "X_train, X_test, y_train, y_test = train_test_split(X, y, random_state=78)"
   ]
  },
  {
   "cell_type": "code",
   "execution_count": 16,
   "metadata": {},
   "outputs": [],
   "source": [
    "# Create a StandardScaler instances\n",
    "scaler = StandardScaler()\n",
    "\n",
    "# Fit the StandardScaler\n",
    "X_scaler = scaler.fit(X_train)\n",
    "\n",
    "# Scale the data\n",
    "X_train_scaled = X_scaler.transform(X_train)\n",
    "X_test_scaled = X_scaler.transform(X_test)"
   ]
  },
  {
   "cell_type": "code",
   "execution_count": 17,
   "metadata": {},
   "outputs": [
    {
     "name": "stdout",
     "output_type": "stream",
     "text": [
      "16\n"
     ]
    }
   ],
   "source": [
    "print(len(X_train[0]))"
   ]
  },
  {
   "cell_type": "markdown",
   "metadata": {},
   "source": [
    "## Compile, Train and Evaluate the Model"
   ]
  },
  {
   "cell_type": "code",
   "execution_count": 18,
   "metadata": {},
   "outputs": [
    {
     "name": "stdout",
     "output_type": "stream",
     "text": [
      "Model: \"sequential\"\n",
      "_________________________________________________________________\n",
      " Layer (type)                Output Shape              Param #   \n",
      "=================================================================\n",
      " dense (Dense)               (None, 16)                272       \n",
      "                                                                 \n",
      " dense_1 (Dense)             (None, 1)                 17        \n",
      "                                                                 \n",
      "=================================================================\n",
      "Total params: 289 (1.13 KB)\n",
      "Trainable params: 289 (1.13 KB)\n",
      "Non-trainable params: 0 (0.00 Byte)\n",
      "_________________________________________________________________\n"
     ]
    }
   ],
   "source": [
    "# Define the model - deep neural net, i.e., the number of input features and hidden nodes for each layer.\n",
    "number_input_features = len(X_train[0])\n",
    "\n",
    "nn = tf.keras.models.Sequential()\n",
    "\n",
    "# First hidden layer\n",
    "nn.add(tf.keras.layers.Dense(units=16, activation=\"relu\", input_dim=number_input_features))\n",
    "\n",
    "# Second hidden layer\n",
    "# nn.add(tf.keras.layers.Dense(units=45, activation=\"relu\"))\n",
    "\n",
    "# Output layer\n",
    "nn.add(tf.keras.layers.Dense(units=1, activation=\"sigmoid\"))\n",
    "\n",
    "# Check the structure of the model\n",
    "nn.summary()"
   ]
  },
  {
   "cell_type": "code",
   "execution_count": 19,
   "metadata": {},
   "outputs": [],
   "source": [
    "# Compile the model\n",
    "nn.compile(loss=\"binary_crossentropy\", optimizer=\"adam\", metrics=[\"accuracy\"])"
   ]
  },
  {
   "cell_type": "code",
   "execution_count": 20,
   "metadata": {},
   "outputs": [
    {
     "name": "stdout",
     "output_type": "stream",
     "text": [
      "Epoch 1/100\n"
     ]
    },
    {
     "name": "stdout",
     "output_type": "stream",
     "text": [
      "804/804 [==============================] - 1s 737us/step - loss: 0.6151 - accuracy: 0.7013\n",
      "Epoch 2/100\n",
      "804/804 [==============================] - 1s 703us/step - loss: 0.5839 - accuracy: 0.7186\n",
      "Epoch 3/100\n",
      "804/804 [==============================] - 1s 694us/step - loss: 0.5802 - accuracy: 0.7198\n",
      "Epoch 4/100\n",
      "804/804 [==============================] - 1s 709us/step - loss: 0.5790 - accuracy: 0.7222\n",
      "Epoch 5/100\n",
      "804/804 [==============================] - 1s 727us/step - loss: 0.5787 - accuracy: 0.7225\n",
      "Epoch 6/100\n",
      "804/804 [==============================] - 1s 714us/step - loss: 0.5780 - accuracy: 0.7222\n",
      "Epoch 7/100\n",
      "804/804 [==============================] - 1s 696us/step - loss: 0.5779 - accuracy: 0.7211\n",
      "Epoch 8/100\n",
      "804/804 [==============================] - 1s 705us/step - loss: 0.5777 - accuracy: 0.7211\n",
      "Epoch 9/100\n",
      "804/804 [==============================] - 1s 710us/step - loss: 0.5777 - accuracy: 0.7227\n",
      "Epoch 10/100\n",
      "804/804 [==============================] - 1s 704us/step - loss: 0.5775 - accuracy: 0.7225\n",
      "Epoch 11/100\n",
      "804/804 [==============================] - 1s 715us/step - loss: 0.5768 - accuracy: 0.7228\n",
      "Epoch 12/100\n",
      "804/804 [==============================] - 1s 706us/step - loss: 0.5771 - accuracy: 0.7224\n",
      "Epoch 13/100\n",
      "804/804 [==============================] - 1s 685us/step - loss: 0.5768 - accuracy: 0.7222\n",
      "Epoch 14/100\n",
      "804/804 [==============================] - 1s 689us/step - loss: 0.5768 - accuracy: 0.7219\n",
      "Epoch 15/100\n",
      "804/804 [==============================] - 1s 688us/step - loss: 0.5768 - accuracy: 0.7227\n",
      "Epoch 16/100\n",
      "804/804 [==============================] - 1s 687us/step - loss: 0.5765 - accuracy: 0.7228\n",
      "Epoch 17/100\n",
      "804/804 [==============================] - 1s 725us/step - loss: 0.5762 - accuracy: 0.7231\n",
      "Epoch 18/100\n",
      "804/804 [==============================] - 1s 690us/step - loss: 0.5764 - accuracy: 0.7225\n",
      "Epoch 19/100\n",
      "804/804 [==============================] - 1s 708us/step - loss: 0.5762 - accuracy: 0.7229\n",
      "Epoch 20/100\n",
      "804/804 [==============================] - 1s 704us/step - loss: 0.5758 - accuracy: 0.7235\n",
      "Epoch 21/100\n",
      "804/804 [==============================] - 1s 706us/step - loss: 0.5758 - accuracy: 0.7236\n",
      "Epoch 22/100\n",
      "804/804 [==============================] - 1s 694us/step - loss: 0.5756 - accuracy: 0.7238\n",
      "Epoch 23/100\n",
      "804/804 [==============================] - 1s 677us/step - loss: 0.5755 - accuracy: 0.7236\n",
      "Epoch 24/100\n",
      "804/804 [==============================] - 1s 686us/step - loss: 0.5755 - accuracy: 0.7243\n",
      "Epoch 25/100\n",
      "804/804 [==============================] - 1s 709us/step - loss: 0.5756 - accuracy: 0.7231\n",
      "Epoch 26/100\n",
      "804/804 [==============================] - 1s 699us/step - loss: 0.5752 - accuracy: 0.7235\n",
      "Epoch 27/100\n",
      "804/804 [==============================] - 1s 689us/step - loss: 0.5753 - accuracy: 0.7241\n",
      "Epoch 28/100\n",
      "804/804 [==============================] - 1s 690us/step - loss: 0.5750 - accuracy: 0.7242\n",
      "Epoch 29/100\n",
      "804/804 [==============================] - 1s 679us/step - loss: 0.5753 - accuracy: 0.7238\n",
      "Epoch 30/100\n",
      "804/804 [==============================] - 1s 739us/step - loss: 0.5750 - accuracy: 0.7243\n",
      "Epoch 31/100\n",
      "804/804 [==============================] - 1s 753us/step - loss: 0.5749 - accuracy: 0.7240\n",
      "Epoch 32/100\n",
      "804/804 [==============================] - 1s 689us/step - loss: 0.5748 - accuracy: 0.7245\n",
      "Epoch 33/100\n",
      "804/804 [==============================] - 1s 700us/step - loss: 0.5746 - accuracy: 0.7233\n",
      "Epoch 34/100\n",
      "804/804 [==============================] - 1s 693us/step - loss: 0.5749 - accuracy: 0.7240\n",
      "Epoch 35/100\n",
      "804/804 [==============================] - 1s 689us/step - loss: 0.5747 - accuracy: 0.7243\n",
      "Epoch 36/100\n",
      "804/804 [==============================] - 1s 690us/step - loss: 0.5743 - accuracy: 0.7247\n",
      "Epoch 37/100\n",
      "804/804 [==============================] - 1s 701us/step - loss: 0.5746 - accuracy: 0.7245\n",
      "Epoch 38/100\n",
      "804/804 [==============================] - 1s 693us/step - loss: 0.5744 - accuracy: 0.7239\n",
      "Epoch 39/100\n",
      "804/804 [==============================] - 1s 702us/step - loss: 0.5745 - accuracy: 0.7238\n",
      "Epoch 40/100\n",
      "804/804 [==============================] - 1s 697us/step - loss: 0.5743 - accuracy: 0.7245\n",
      "Epoch 41/100\n",
      "804/804 [==============================] - 1s 684us/step - loss: 0.5742 - accuracy: 0.7254\n",
      "Epoch 42/100\n",
      "804/804 [==============================] - 1s 692us/step - loss: 0.5741 - accuracy: 0.7244\n",
      "Epoch 43/100\n",
      "804/804 [==============================] - 1s 705us/step - loss: 0.5739 - accuracy: 0.7240\n",
      "Epoch 44/100\n",
      "804/804 [==============================] - 1s 688us/step - loss: 0.5740 - accuracy: 0.7241\n",
      "Epoch 45/100\n",
      "804/804 [==============================] - 1s 686us/step - loss: 0.5739 - accuracy: 0.7245\n",
      "Epoch 46/100\n",
      "804/804 [==============================] - 1s 703us/step - loss: 0.5741 - accuracy: 0.7237\n",
      "Epoch 47/100\n",
      "804/804 [==============================] - 1s 706us/step - loss: 0.5739 - accuracy: 0.7240\n",
      "Epoch 48/100\n",
      "804/804 [==============================] - 1s 696us/step - loss: 0.5736 - accuracy: 0.7245\n",
      "Epoch 49/100\n",
      "804/804 [==============================] - 1s 711us/step - loss: 0.5733 - accuracy: 0.7247\n",
      "Epoch 50/100\n",
      "804/804 [==============================] - 1s 711us/step - loss: 0.5737 - accuracy: 0.7249\n",
      "Epoch 51/100\n",
      "804/804 [==============================] - 1s 704us/step - loss: 0.5736 - accuracy: 0.7243\n",
      "Epoch 52/100\n",
      "804/804 [==============================] - 1s 690us/step - loss: 0.5734 - accuracy: 0.7245\n",
      "Epoch 53/100\n",
      "804/804 [==============================] - 1s 687us/step - loss: 0.5734 - accuracy: 0.7243\n",
      "Epoch 54/100\n",
      "804/804 [==============================] - 1s 689us/step - loss: 0.5735 - accuracy: 0.7247\n",
      "Epoch 55/100\n",
      "804/804 [==============================] - 1s 709us/step - loss: 0.5734 - accuracy: 0.7245\n",
      "Epoch 56/100\n",
      "804/804 [==============================] - 1s 781us/step - loss: 0.5734 - accuracy: 0.7247\n",
      "Epoch 57/100\n",
      "804/804 [==============================] - 1s 722us/step - loss: 0.5734 - accuracy: 0.7254\n",
      "Epoch 58/100\n",
      "804/804 [==============================] - 1s 696us/step - loss: 0.5733 - accuracy: 0.7248\n",
      "Epoch 59/100\n",
      "804/804 [==============================] - 1s 692us/step - loss: 0.5733 - accuracy: 0.7251\n",
      "Epoch 60/100\n",
      "804/804 [==============================] - 1s 693us/step - loss: 0.5732 - accuracy: 0.7251\n",
      "Epoch 61/100\n",
      "804/804 [==============================] - 1s 689us/step - loss: 0.5733 - accuracy: 0.7251\n",
      "Epoch 62/100\n",
      "804/804 [==============================] - 1s 701us/step - loss: 0.5734 - accuracy: 0.7252\n",
      "Epoch 63/100\n",
      "804/804 [==============================] - 1s 685us/step - loss: 0.5733 - accuracy: 0.7252\n",
      "Epoch 64/100\n",
      "804/804 [==============================] - 1s 690us/step - loss: 0.5732 - accuracy: 0.7248\n",
      "Epoch 65/100\n",
      "804/804 [==============================] - 1s 695us/step - loss: 0.5729 - accuracy: 0.7261\n",
      "Epoch 66/100\n",
      "804/804 [==============================] - 1s 703us/step - loss: 0.5730 - accuracy: 0.7254\n",
      "Epoch 67/100\n",
      "804/804 [==============================] - 1s 706us/step - loss: 0.5729 - accuracy: 0.7250\n",
      "Epoch 68/100\n",
      "804/804 [==============================] - 1s 685us/step - loss: 0.5726 - accuracy: 0.7247\n",
      "Epoch 69/100\n",
      "804/804 [==============================] - 1s 704us/step - loss: 0.5731 - accuracy: 0.7255\n",
      "Epoch 70/100\n",
      "804/804 [==============================] - 1s 707us/step - loss: 0.5730 - accuracy: 0.7256\n",
      "Epoch 71/100\n",
      "804/804 [==============================] - 1s 712us/step - loss: 0.5728 - accuracy: 0.7258\n",
      "Epoch 72/100\n",
      "804/804 [==============================] - 1s 714us/step - loss: 0.5726 - accuracy: 0.7256\n",
      "Epoch 73/100\n",
      "804/804 [==============================] - 1s 702us/step - loss: 0.5730 - accuracy: 0.7255\n",
      "Epoch 74/100\n",
      "804/804 [==============================] - 1s 717us/step - loss: 0.5724 - accuracy: 0.7252\n",
      "Epoch 75/100\n",
      "804/804 [==============================] - 1s 722us/step - loss: 0.5727 - accuracy: 0.7257\n",
      "Epoch 76/100\n",
      "804/804 [==============================] - 1s 696us/step - loss: 0.5725 - accuracy: 0.7253\n",
      "Epoch 77/100\n",
      "804/804 [==============================] - 1s 694us/step - loss: 0.5728 - accuracy: 0.7255\n",
      "Epoch 78/100\n",
      "804/804 [==============================] - 1s 721us/step - loss: 0.5727 - accuracy: 0.7251\n",
      "Epoch 79/100\n",
      "804/804 [==============================] - 1s 692us/step - loss: 0.5726 - accuracy: 0.7256\n",
      "Epoch 80/100\n",
      "804/804 [==============================] - 1s 705us/step - loss: 0.5723 - accuracy: 0.7256\n",
      "Epoch 81/100\n",
      "804/804 [==============================] - 1s 687us/step - loss: 0.5725 - accuracy: 0.7254\n",
      "Epoch 82/100\n",
      "804/804 [==============================] - 1s 702us/step - loss: 0.5723 - accuracy: 0.7258\n",
      "Epoch 83/100\n",
      "804/804 [==============================] - 1s 685us/step - loss: 0.5724 - accuracy: 0.7257\n",
      "Epoch 84/100\n",
      "804/804 [==============================] - 1s 716us/step - loss: 0.5722 - accuracy: 0.7248\n",
      "Epoch 85/100\n",
      "804/804 [==============================] - 1s 686us/step - loss: 0.5726 - accuracy: 0.7245\n",
      "Epoch 86/100\n",
      "804/804 [==============================] - 1s 684us/step - loss: 0.5723 - accuracy: 0.7254\n",
      "Epoch 87/100\n",
      "804/804 [==============================] - 1s 681us/step - loss: 0.5723 - accuracy: 0.7257\n",
      "Epoch 88/100\n",
      "804/804 [==============================] - 1s 713us/step - loss: 0.5723 - accuracy: 0.7261\n",
      "Epoch 89/100\n",
      "804/804 [==============================] - 1s 713us/step - loss: 0.5722 - accuracy: 0.7260\n",
      "Epoch 90/100\n",
      "804/804 [==============================] - 1s 709us/step - loss: 0.5723 - accuracy: 0.7254\n",
      "Epoch 91/100\n",
      "804/804 [==============================] - 1s 712us/step - loss: 0.5721 - accuracy: 0.7254\n",
      "Epoch 92/100\n",
      "804/804 [==============================] - 1s 695us/step - loss: 0.5723 - accuracy: 0.7264\n",
      "Epoch 93/100\n",
      "804/804 [==============================] - 1s 698us/step - loss: 0.5720 - accuracy: 0.7255\n",
      "Epoch 94/100\n",
      "804/804 [==============================] - 1s 708us/step - loss: 0.5722 - accuracy: 0.7256\n",
      "Epoch 95/100\n",
      "804/804 [==============================] - 1s 704us/step - loss: 0.5721 - accuracy: 0.7258\n",
      "Epoch 96/100\n",
      "804/804 [==============================] - 1s 700us/step - loss: 0.5721 - accuracy: 0.7260\n",
      "Epoch 97/100\n",
      "804/804 [==============================] - 1s 686us/step - loss: 0.5722 - accuracy: 0.7258\n",
      "Epoch 98/100\n",
      "804/804 [==============================] - 1s 683us/step - loss: 0.5720 - accuracy: 0.7255\n",
      "Epoch 99/100\n",
      "804/804 [==============================] - 1s 712us/step - loss: 0.5721 - accuracy: 0.7262\n",
      "Epoch 100/100\n",
      "804/804 [==============================] - 1s 700us/step - loss: 0.5721 - accuracy: 0.7250\n"
     ]
    }
   ],
   "source": [
    "# Train the model\n",
    "fit_model = nn.fit(X_train_scaled, y_train, epochs=100)"
   ]
  },
  {
   "cell_type": "code",
   "execution_count": 21,
   "metadata": {},
   "outputs": [
    {
     "name": "stdout",
     "output_type": "stream",
     "text": [
      "268/268 - 0s - loss: 0.5731 - accuracy: 0.7230 - 254ms/epoch - 949us/step\n",
      "Loss: 0.5730555653572083, Accuracy: 0.7230320572853088\n"
     ]
    }
   ],
   "source": [
    "# Evaluate the model using the test data\n",
    "model_loss, model_accuracy = nn.evaluate(X_test_scaled,y_test,verbose=2)\n",
    "print(f\"Loss: {model_loss}, Accuracy: {model_accuracy}\")"
   ]
  },
  {
   "cell_type": "code",
   "execution_count": 22,
   "metadata": {},
   "outputs": [
    {
     "data": {
      "text/plain": [
       "<Axes: >"
      ]
     },
     "execution_count": 22,
     "metadata": {},
     "output_type": "execute_result"
    },
    {
     "data": {
      "image/png": "[encoded data removed]",
      "text/plain": [
       "<Figure size 640x480 with 1 Axes>"
      ]
     },
     "metadata": {},
     "output_type": "display_data"
    }
   ],
   "source": [
    "# Create a DataFrame containing training history\n",
    "history_df = pd.DataFrame(fit_model.history, index=range(1,len(fit_model.history[\"loss\"])+1))\n",
    "\n",
    "# Plot the accuracy\n",
    "history_df.plot(y=\"loss\")\n"
   ]
  },
  {
   "cell_type": "code",
   "execution_count": 23,
   "metadata": {},
   "outputs": [
    {
     "name": "stderr",
     "output_type": "stream",
     "text": [
      "c:\\Users\\inlik\\anaconda3\\envs\\dev2\\lib\\site-packages\\keras\\src\\engine\\training.py:3000: UserWarning: You are saving your model as an HDF5 file via `model.save()`. This file format is considered legacy. We recommend using instead the native Keras format, e.g. `model.save('my_model.keras')`.\n",
      "  saving_api.save_model(\n"
     ]
    }
   ],
   "source": [
    "import h5py\n",
    "\n",
    "# Export our model to HDF5 file\n",
    "# Warning said HDF5 file was legacy file format, so I used h5 instead of hdf5.\n",
    "with h5py.File('AlphabetSoupCharity_Optimization.h5', 'w') as f:\n",
    "    nn.save(f)"
   ]
  }
 ],
 "metadata": {
  "kernelspec": {
   "display_name": "Python 3",
   "language": "python",
   "name": "python3"
  },
  "language_info": {
   "codemirror_mode": {
    "name": "ipython",
    "version": 3
   },
   "file_extension": ".py",
   "mimetype": "text/x-python",
   "name": "python",
   "nbconvert_exporter": "python",
   "pygments_lexer": "ipython3",
   "version": "3.10.13"
  },
  "vscode": {
   "interpreter": {
    "hash": "31f2aee4e71d21fbe5cf8b01ff0e069b9275f58929596ceb00d14d90e3e16cd6"
   }
  }
 },
 "nbformat": 4,
 "nbformat_minor": 4
}
